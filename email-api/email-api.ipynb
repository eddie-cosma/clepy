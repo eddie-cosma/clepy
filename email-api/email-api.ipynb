{
 "cells": [
  {
   "cell_type": "markdown",
   "id": "6aeb009304fba44e",
   "metadata": {},
   "source": [
    "# Not your father's email: Modern APIs for transactional and mass mailing\n",
    "\n",
    "Eddie Cosma | CLEPy Meetup | January 13, 2025\n",
    "\n",
    "\n",
    "## Goals\n",
    "\n",
    "- Review use cases for mail send APIs\n",
    "- Compare popular solutions (e.g., SendGrid, MailGun, Amazon SES)\n",
    "- Demonstrate implementation in Python\n"
   ]
  },
  {
   "cell_type": "markdown",
   "id": "e2547de2ba3bdae4",
   "metadata": {},
   "source": [
    "# History of email\n",
    "\n",
    "- Been around since the '60s\n",
    "- Everyone has it\n",
    "- Open standards (SMTP, IMAP)\n"
   ]
  },
  {
   "cell_type": "markdown",
   "id": "ebd813b17efdb12d",
   "metadata": {},
   "source": [
    "# Comparing methods of notification\n",
    "\n",
    "- Email still has its place!\n",
    "- Compared to SMS or Push:\n",
    "  - Better for long-form content\n",
    "  - Less intrusive/urgent\n",
    "  - Accessible from any device\n",
    "\n",
    "![](img/comparison.png)\n",
    "\n",
    "Source: https://www.mgt-commerce.com/blog/magento-email-vs-sms-vs-push-notifications/"
   ]
  },
  {
   "metadata": {},
   "cell_type": "markdown",
   "source": [
    "# The old way\n",
    "\n",
    "![](img/old-way.png)\n",
    "\n",
    "Source: https://stackoverflow.com/questions/161212/sending-mass-emails-programmatically"
   ],
   "id": "888df6b5d15daa27"
  },
  {
   "metadata": {},
   "cell_type": "markdown",
   "source": "## Example plaintext email",
   "id": "56651bfef06c6b99"
  },
  {
   "metadata": {
    "ExecuteTime": {
     "end_time": "2025-01-12T21:49:00.642524Z",
     "start_time": "2025-01-12T21:49:00.636924Z"
    }
   },
   "cell_type": "code",
   "source": [
    "# Get our email password and API keys for demo\n",
    "with open('.secrets', 'r', encoding='utf-8') as f:\n",
    "    gmail_password = f.readline()[:-1]\n",
    "    sendgrid_api_key = f.readline()[:-1]\n",
    "    sendgrid_template_id = f.readline()[:-1]\n",
    "    to_email = f.readline()[:-1]\n",
    "    from_email = f.readline()[:-1]"
   ],
   "id": "89a64f31e53ce19e",
   "outputs": [],
   "execution_count": 52
  },
  {
   "metadata": {
    "ExecuteTime": {
     "end_time": "2025-01-12T19:19:07.748011Z",
     "start_time": "2025-01-12T19:19:07.736237Z"
    }
   },
   "cell_type": "code",
   "source": [
    "# Setup our email\n",
    "from email.message import EmailMessage\n",
    "\n",
    "message = EmailMessage()\n",
    "message['From'] = 'clepydemo@gmail.com'\n",
    "message['To'] = to_email\n",
    "message['Subject'] = 'Hello world!'\n",
    "\n",
    "content = \"\"\"\n",
    "This is an example of how you can use SMTP to send emails with Python.\n",
    "\"\"\"\n",
    "\n",
    "message.set_content(content)\n",
    "\n",
    "# Review our message\n",
    "print(message.as_string())"
   ],
   "id": "a02d5ad5967600ea",
   "outputs": [
    {
     "name": "stdout",
     "output_type": "stream",
     "text": [
      "From: clepydemo@gmail.com\n",
      "To: eddie.cosma@gmail.com\n",
      "Subject: Hello world!\n",
      "Content-Type: text/plain; charset=\"utf-8\"\n",
      "Content-Transfer-Encoding: 7bit\n",
      "MIME-Version: 1.0\n",
      "\n",
      "\n",
      "This is an example of how you can use SMTP to send emails with Python.\n",
      "\n"
     ]
    }
   ],
   "execution_count": 14
  },
  {
   "metadata": {
    "ExecuteTime": {
     "end_time": "2025-01-12T19:16:53.487567Z",
     "start_time": "2025-01-12T19:16:51.942380Z"
    }
   },
   "cell_type": "code",
   "source": [
    "# Send our message\n",
    "import smtplib\n",
    "\n",
    "with smtplib.SMTP('smtp.gmail.com', 587) as s:\n",
    "    s.ehlo()\n",
    "    s.starttls()\n",
    "    s.ehlo()\n",
    "    s.login('clepydemo@gmail.com', gmail_password)\n",
    "    s.send_message(message)"
   ],
   "id": "ddd58d7729ae1082",
   "outputs": [],
   "execution_count": 9
  },
  {
   "metadata": {},
   "cell_type": "markdown",
   "source": [
    "## HTML emails\n",
    "\n",
    "```python\n",
    "from email.utils import make_msgid\n",
    "email_cid = make_msgid()\n",
    "message.add_alternative(\"\"\"\\\n",
    "<html>\n",
    "  <head></head>\n",
    "  <body>\n",
    "    <p>Salut!</p>\n",
    "    <p>Cela ressemble à un excellent\n",
    "        <a href=\"http://www.yummly.com/recipe/Roasted-Asparagus-Epicurious-203718\">\n",
    "            recipie\n",
    "        </a> déjeuner.\n",
    "    </p>\n",
    "    <img src=\"cid:{email_cid}\" />\n",
    "  </body>\n",
    "</html>\n",
    "\"\"\".format(email_cid=email_cid[1:-1]), subtype='html')\n",
    "```\n",
    "\n",
    "Source: https://docs.python.org/3.12/library/email.examples.html"
   ],
   "id": "b3008711995a970f"
  },
  {
   "metadata": {},
   "cell_type": "markdown",
   "source": [
    "# Problems with programmatic SMTP send\n",
    "\n",
    "- Lots of boilerplate\n",
    "- Requires writing HTML and managing templates (e.g., with Jinja)\n",
    "  - Email HTML is like dealing with IE 15 years ago\n",
    "- Manual checks for bounces\n",
    "- Manual management of unsubscribes\n",
    "- Mail host required"
   ],
   "id": "c75a1eea331b8980"
  },
  {
   "metadata": {},
   "cell_type": "markdown",
   "source": [
    "# Benefits of email APIs\n",
    "\n",
    "- Replaced SMTP-based email with calls to web APIs\n",
    "- Allow for advanced insight into outgoing mail\n",
    "  - \"Deliverability\" information (e.g., delivered, opened, clicked, bounced, spam)\n",
    "  - Managed unsubscribe groups\n",
    "- Template-based\n",
    "  - Create HTML template with service host\n",
    "  - Transmit only data that changes as, e.g., JSON\n",
    "  - Avoid creating RFC 5322 messages locally"
   ],
   "id": "afd417a52618cad9"
  },
  {
   "metadata": {},
   "cell_type": "markdown",
   "source": [
    "# Comparison of services\n",
    "\n",
    "|                              | SendGrid                                    | Mailgun                                       | Amazon SES                           | Postmark                                 |\n",
    "|------------------------------|---------------------------------------------|-----------------------------------------------|--------------------------------------|------------------------------------------|\n",
    "| **Free Tier**                | 100 emails/day (no time limit)              | 100 emails/day (no time limit)                | 3,000 emails/month (12 months only)  | 100 emails/**month** (no time limit)     |\n",
    "| **Pricing Beyond Free Tier** | Starting at \\$19.95/month for 50,000 emails | Starting at \\$15/month for 10,000 emails      | Pay-as-you-go at \\$0.10/1,000 emails | Starting at \\$15/month for 10,000 emails |\n",
    "| **Template support**         | Yes, JSON transmission                      | Yes, JSON transmission                        | Yes, JSON transmission               | Yes, JSON transmission                   |\n",
    "\n",
    "## Summary\n",
    "\n",
    "- API services are very comparable\n",
    "- If \\<100 emails/month, use SendGrid or MailGun\n",
    "- If \\>100, consider Amazon SES\n",
    "- Evaluate any other unique needs individually\n",
    "\n"
   ],
   "id": "6cbf1a72633cd15a"
  },
  {
   "metadata": {},
   "cell_type": "markdown",
   "source": "# SendGrid using `requests`",
   "id": "f269636622c68cb9"
  },
  {
   "metadata": {
    "ExecuteTime": {
     "end_time": "2025-01-12T21:49:07.345084Z",
     "start_time": "2025-01-12T21:49:07.341918Z"
    }
   },
   "cell_type": "code",
   "source": [
    "# Setup our environment\n",
    "import requests\n",
    "\n",
    "base_url = 'https://api.sendgrid.com'\n",
    "endpoint = '/v3/mail/send'"
   ],
   "id": "87f82da5c81a113a",
   "outputs": [],
   "execution_count": 53
  },
  {
   "metadata": {
    "ExecuteTime": {
     "end_time": "2025-01-12T21:49:10.232296Z",
     "start_time": "2025-01-12T21:49:10.035145Z"
    }
   },
   "cell_type": "code",
   "source": [
    "# Send a plaintext email\n",
    "headers = {'Authorization': 'Bearer ' + sendgrid_api_key}\n",
    "body = {\n",
    "    'personalizations': [{'to': [{'email': to_email}]}],\n",
    "    'from': {'email': from_email},\n",
    "    'subject': 'Hello world!',\n",
    "    'content': [\n",
    "        {\n",
    "            'type': 'text/plain',\n",
    "            'value': 'This is an example of how you can use SendGrid to send emails with Python.',\n",
    "        }\n",
    "    ]\n",
    "}\n",
    "response = requests.post(base_url + endpoint, headers=headers, json=body)\n",
    "\n",
    "print(f'{response.status_code=}')\n",
    "print(f'{response.text=}')"
   ],
   "id": "d49ff835f59ab740",
   "outputs": [
    {
     "name": "stdout",
     "output_type": "stream",
     "text": [
      "response.status_code=202\n",
      "response.text=''\n"
     ]
    }
   ],
   "execution_count": 54
  },
  {
   "metadata": {},
   "cell_type": "markdown",
   "source": [
    "# SendGrid using the sendgrid library\n",
    "\n",
    "Installation: `pip install sendgrid`\n",
    "\n",
    "```python3\n",
    "import sendgrid\n",
    "from sendgrid.helpers.mail import Mail\n",
    "\n",
    "sg = sendgrid.SendGridAPIClient(api_key=sendgrid_api_key)\n",
    "data = {\n",
    "    'personalizations': [{'to': [{'email': to_email}]}],\n",
    "    'from': {'email': from_email},\n",
    "    'subject': 'Hello world!',\n",
    "    'content': [\n",
    "        {\n",
    "            'type': 'text/plain',\n",
    "            'value': 'This is an example of how you can use SendGrid to send emails with Python.',\n",
    "        }\n",
    "    ]\n",
    "}\n",
    "response = sg.client.mail.send.post(request_body=data)\n",
    "```"
   ],
   "id": "fcfc6811f4fbcf35"
  },
  {
   "metadata": {},
   "cell_type": "markdown",
   "source": "# SendGrid using the mail helper library",
   "id": "88c29033dd497d1d"
  },
  {
   "metadata": {
    "ExecuteTime": {
     "end_time": "2025-01-12T21:09:41.184673Z",
     "start_time": "2025-01-12T21:09:41.179492Z"
    }
   },
   "cell_type": "code",
   "source": [
    "import sendgrid\n",
    "from sendgrid.helpers.mail import Mail"
   ],
   "id": "62c8ab80e8b209ec",
   "outputs": [],
   "execution_count": 35
  },
  {
   "metadata": {
    "ExecuteTime": {
     "end_time": "2025-01-12T20:56:25.718108Z",
     "start_time": "2025-01-12T20:56:25.711934Z"
    }
   },
   "cell_type": "code",
   "source": [
    "# Define a function to send a given input message\n",
    "\n",
    "def send_email(message: Mail) -> None:\n",
    "    # Set up the API client\n",
    "    sg = sendgrid.SendGridAPIClient(api_key=sendgrid_api_key)\n",
    "\n",
    "    # Attempt to send the message\n",
    "    response = sg.send(message)\n",
    "\n",
    "    # Show the response\n",
    "    print(f'{response.status_code=}')\n",
    "    print(f'{response.to_dict=}')"
   ],
   "id": "425d4b3a4b51ddaa",
   "outputs": [],
   "execution_count": 33
  },
  {
   "metadata": {
    "ExecuteTime": {
     "end_time": "2025-01-12T20:55:28.929474Z",
     "start_time": "2025-01-12T20:55:28.838945Z"
    }
   },
   "cell_type": "code",
   "source": [
    "# Send a plaintext email\n",
    "\n",
    "message = Mail(\n",
    "    from_email=from_email,\n",
    "    to_emails=to_email,\n",
    "    subject='Hello world!',\n",
    "    plain_text_content='This is an example of how you can use the SendGrid **library** to send emails with Python.',\n",
    ")\n",
    "send_email(message)"
   ],
   "id": "63a2b0421577309b",
   "outputs": [
    {
     "name": "stdout",
     "output_type": "stream",
     "text": [
      "response.status_code=202\n",
      "response.body=b''\n",
      "response.headers=<http.client.HTTPMessage object at 0x10ed77fb0>\n"
     ]
    }
   ],
   "execution_count": 31
  },
  {
   "metadata": {},
   "cell_type": "code",
   "outputs": [],
   "execution_count": null,
   "source": [
    "# Send an HTML email\n",
    "\n",
    "message = Mail(\n",
    "    from_email=from_email,\n",
    "    to_emails=to_email,\n",
    "    subject='Hello world!',\n",
    "    html_content='This is an example of how you can use the SendGrid library to send <span style=\"font-weight: bold;\">HTML</span> emails with Python.',\n",
    ")\n",
    "send_email(message)"
   ],
   "id": "d44fc1dc723d6312"
  },
  {
   "metadata": {},
   "cell_type": "markdown",
   "source": [
    "# Using transactional templates\n",
    "\n",
    "![](img/template-1.png)\n",
    "\n",
    "![](img/template-2.png)\n",
    "\n",
    "![](img/template-3.png)"
   ],
   "id": "66bb855a391fb170"
  },
  {
   "metadata": {
    "ExecuteTime": {
     "end_time": "2025-01-12T21:10:25.834282Z",
     "start_time": "2025-01-12T21:10:25.737665Z"
    }
   },
   "cell_type": "code",
   "source": [
    "message = Mail(\n",
    "    from_email=from_email,\n",
    "    to_emails=to_email,\n",
    ")\n",
    "message.dynamic_template_data = {\n",
    "    'confirm_uri': 'https://www.example.com'\n",
    "}\n",
    "message.template_id = sendgrid_template_id\n",
    "send_email(message)"
   ],
   "id": "e4d9049efc6d917a",
   "outputs": [
    {
     "name": "stdout",
     "output_type": "stream",
     "text": [
      "response.status_code=202\n",
      "response.body=b''\n"
     ]
    }
   ],
   "execution_count": 37
  },
  {
   "metadata": {},
   "cell_type": "markdown",
   "source": [
    "# Other features\n",
    "\n",
    "A \"kitchen sink\" example is provided in the library documentation: https://github.com/sendgrid/sendgrid-python/blob/main/use_cases/kitchen_sink.md\n",
    "\n",
    "## Scheduled send\n",
    "\n",
    "```python3\n",
    "from datetime import datetime, timezone\n",
    "from sendgrid.helpers.mail import SendAt\n",
    "\n",
    "dt = datetime(2025, 2, 1, 12, 0, 0)\n",
    "timestamp = int(dt.replace(tzinfo=timezone.utc).timestamp())\n",
    "\n",
    "message.send_at = SendAt(timestamp)\n",
    "```\n",
    "\n",
    "## Batched send\n",
    "```python3\n",
    "from sendgrid.helpers.mail import BatchId\n",
    "\n",
    "message.batch_id = BatchId(\"HkJ5yLYULb7Rj8GKSx7u025ouWVlMgAi\")\n",
    "```\n",
    "\n",
    "## Suppression groups\n",
    "\n",
    "![](img/unsubscribe.png)\n",
    "\n",
    "```python3\n",
    "from sendgrid.helpers.mail import Asm, GroupId, GroupsToDisplay\n",
    "\n",
    "message.asm = Asm(GroupId(86397), GroupsToDisplay([86397, 12345]))\n",
    "```\n",
    "\n",
    "\n"
   ],
   "id": "7abe9f4b89972372"
  },
  {
   "metadata": {},
   "cell_type": "markdown",
   "source": [
    "# Other endpoints\n",
    "\n",
    "See: https://github.com/sendgrid/sendgrid-python/blob/main/USAGE.md\n",
    "\n",
    "- ACCESS SETTINGS\n",
    "- ALERTS\n",
    "- API KEYS\n",
    "- ASM\n",
    "- BROWSERS\n",
    "- CAMPAIGNS\n",
    "- CATEGORIES\n",
    "- CLIENTS\n",
    "- CONTACTDB\n",
    "- DEVICES\n",
    "- GEO\n",
    "- IPS\n",
    "- MAIL\n",
    "- MAIL SETTINGS\n",
    "- MAILBOX PROVIDERS\n",
    "- PARTNER SETTINGS\n",
    "- SCOPES\n",
    "- SENDERS\n",
    "- SENDER AUTHENTICATION\n",
    "- STATS\n",
    "- SUBUSERS\n",
    "- SUPPRESSION\n",
    "- TEMPLATES\n",
    "- TRACKING SETTINGS\n",
    "- USER"
   ],
   "id": "87f999279355d2f2"
  },
  {
   "metadata": {},
   "cell_type": "markdown",
   "source": "## Example: retrieve suppression group information",
   "id": "78b7d2a4ce89ed42"
  },
  {
   "metadata": {
    "ExecuteTime": {
     "end_time": "2025-01-12T21:41:34.652371Z",
     "start_time": "2025-01-12T21:41:34.521169Z"
    }
   },
   "cell_type": "code",
   "source": [
    "sg = sendgrid.SendGridAPIClient(api_key=sendgrid_api_key)\n",
    "\n",
    "params = {'id': 86397}\n",
    "response = sg.client.asm.groups.get(query_params=params)\n",
    "\n",
    "print(f'{response.status_code=}')\n",
    "print(f'{response.to_dict=}')"
   ],
   "id": "987b8c570728c444",
   "outputs": [
    {
     "name": "stdout",
     "output_type": "stream",
     "text": [
      "response.status_code=200\n",
      "response.to_dict=[{'name': 'Medcopia Basic', 'id': 86397, 'description': 'Basic alerts for new and ended drug shortages', 'is_default': True, 'unsubscribes': 13}]\n"
     ]
    }
   ],
   "execution_count": 48
  },
  {
   "metadata": {},
   "cell_type": "markdown",
   "source": "# Example: retrieve global email statistics",
   "id": "6e055b787a26ce67"
  },
  {
   "metadata": {
    "ExecuteTime": {
     "end_time": "2025-01-12T21:45:48.593429Z",
     "start_time": "2025-01-12T21:45:48.381337Z"
    }
   },
   "cell_type": "code",
   "source": [
    "params = {'aggregated_by': 'day', 'limit': 1, 'start_date': '2025-01-05', 'end_date': '2025-01-05'}\n",
    "response = sg.client.stats.get(query_params=params)\n",
    "\n",
    "print(f'{response.status_code=}')\n",
    "print(f'{response.to_dict=}')"
   ],
   "id": "4f2bc99b340f502",
   "outputs": [
    {
     "name": "stdout",
     "output_type": "stream",
     "text": [
      "response.status_code=200\n",
      "response.to_dict=[{'date': '2025-01-05', 'stats': [{'metrics': {'blocks': 1, 'bounce_drops': 0, 'bounces': 1, 'clicks': 0, 'deferred': 0, 'delivered': 55, 'invalid_emails': 0, 'opens': 0, 'processed': 57, 'requests': 57, 'spam_report_drops': 0, 'spam_reports': 0, 'unique_clicks': 0, 'unique_opens': 0, 'unsubscribe_drops': 0, 'unsubscribes': 0}}]}]\n"
     ]
    }
   ],
   "execution_count": 51
  }
 ],
 "metadata": {
  "kernelspec": {
   "display_name": "Python 3 (ipykernel)",
   "language": "python",
   "name": "python3"
  },
  "language_info": {
   "codemirror_mode": {
    "name": "ipython",
    "version": 3
   },
   "file_extension": ".py",
   "mimetype": "text/x-python",
   "name": "python",
   "nbconvert_exporter": "python",
   "pygments_lexer": "ipython3",
   "version": "3.12.2"
  }
 },
 "nbformat": 4,
 "nbformat_minor": 5
}
